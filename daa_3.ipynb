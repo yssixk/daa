{
 "cells": [
  {
   "cell_type": "code",
   "execution_count": 51,
   "id": "f19e3b2d",
   "metadata": {},
   "outputs": [
    {
     "name": "stdout",
     "output_type": "stream",
     "text": [
      "2022-12-31 00:00:00\n",
      "['Yeremia Suyanto', 2024071015, 'Informatika', 'DAA', 'Universitas Pembangunan Jaya', datetime.date(2025, 9, 15)]\n"
     ]
    }
   ],
   "source": [
    "import datetime\n",
    "\n",
    "x = datetime.datetime(2022, 12, 31)\n",
    "print(x)\n",
    "\n",
    "today = datetime.date.today()\n",
    "\n",
    "mahasiswa = [\"Yeremia Suyanto\", 2024071015, \"Informatika\", \"DAA\",\"Universitas Pembangunan Jaya\", today]\n",
    "print(mahasiswa)"
   ]
  },
  {
   "cell_type": "code",
   "execution_count": 49,
   "id": "9827e13a",
   "metadata": {},
   "outputs": [
    {
     "name": "stdout",
     "output_type": "stream",
     "text": [
      "NIM dan Prodi [2024071015, 'Informatika']\n"
     ]
    }
   ],
   "source": [
    "print(\"NIM dan Prodi\", mahasiswa[1:3])"
   ]
  },
  {
   "cell_type": "code",
   "execution_count": 31,
   "id": "03c894cd",
   "metadata": {},
   "outputs": [
    {
     "name": "stdout",
     "output_type": "stream",
     "text": [
      "NIM: 2024071015\n"
     ]
    }
   ],
   "source": [
    "print(\"NIM:\", mahasiswa[1])"
   ]
  },
  {
   "cell_type": "code",
   "execution_count": 32,
   "id": "88a4198f",
   "metadata": {},
   "outputs": [
    {
     "data": {
      "text/plain": [
       "'UPJ'"
      ]
     },
     "execution_count": 32,
     "metadata": {},
     "output_type": "execute_result"
    }
   ],
   "source": [
    "mahasiswa[4]"
   ]
  },
  {
   "cell_type": "code",
   "execution_count": 58,
   "id": "2bdf89cd",
   "metadata": {},
   "outputs": [
    {
     "name": "stdout",
     "output_type": "stream",
     "text": [
      "Yeremia Suyanto UPJ\n",
      "2024071015 UPJ\n",
      "Informatika UPJ\n",
      "DAA UPJ\n",
      "Universitas Pembangunan Jaya UPJ\n",
      "2025-09-15 UPJ\n"
     ]
    }
   ],
   "source": [
    "for xMahasiswa in mahasiswa:\n",
    "    print(str(xMahasiswa) + \" UPJ\")"
   ]
  },
  {
   "cell_type": "code",
   "execution_count": 63,
   "id": "ff36680a",
   "metadata": {},
   "outputs": [
    {
     "name": "stdout",
     "output_type": "stream",
     "text": [
      "Universitas Pembangunan Jaya\n"
     ]
    }
   ],
   "source": [
    "UPJ = [\"Universitas\", \"Pembangunan\", \"Jaya\"]\n",
    "print(\" \".join(UPJ))"
   ]
  },
  {
   "cell_type": "code",
   "execution_count": 61,
   "id": "7dddd7cb",
   "metadata": {},
   "outputs": [
    {
     "name": "stdout",
     "output_type": "stream",
     "text": [
      "Red Square\n",
      "Green Square\n",
      "Blue Square\n",
      "Yellow Square\n"
     ]
    }
   ],
   "source": [
    "bin_colors=['Red', 'Green', 'Blue', 'Yellow']\n",
    "for aColor in bin_colors:\n",
    "    print(aColor + \" Square\")"
   ]
  },
  {
   "cell_type": "code",
   "execution_count": 65,
   "id": "bba21d04",
   "metadata": {},
   "outputs": [
    {
     "name": "stdout",
     "output_type": "stream",
     "text": [
      "400\n"
     ]
    }
   ],
   "source": [
    "nested_tuple = (100, (200,400,600),300,(400,800))\n",
    "print(nested_tuple[1][1])"
   ]
  },
  {
   "cell_type": "code",
   "execution_count": 80,
   "id": "023ddac8",
   "metadata": {},
   "outputs": [
    {
     "name": "stdout",
     "output_type": "stream",
     "text": [
      "{'Nama:': 'Yeremia Suyanto', 'NIM:': 2024071015, 'Prodi:': 'Informatika', 'Universitas:': 'Universitas Pembangunan Jaya'}\n"
     ]
    }
   ],
   "source": [
    "nama = {\n",
    "    \"Nama:\": \"Yeremia Suyanto\",\n",
    "    \"NIM:\": 2024071015,\n",
    "    \"Prodi:\": \"Informatika\",\n",
    "    \"Universitas:\": \"Universitas Pembangunan Jaya\"\n",
    "}\n",
    "print(nama)"
   ]
  },
  {
   "cell_type": "code",
   "execution_count": 89,
   "id": "f1f8b535",
   "metadata": {},
   "outputs": [
    {
     "ename": "ModuleNotFoundError",
     "evalue": "No module named 'pandas'",
     "output_type": "error",
     "traceback": [
      "\u001b[31m---------------------------------------------------------------------------\u001b[39m",
      "\u001b[31mModuleNotFoundError\u001b[39m                       Traceback (most recent call last)",
      "\u001b[36mCell\u001b[39m\u001b[36m \u001b[39m\u001b[32mIn[89]\u001b[39m\u001b[32m, line 1\u001b[39m\n\u001b[32m----> \u001b[39m\u001b[32m1\u001b[39m \u001b[38;5;28;01mimport\u001b[39;00m\u001b[38;5;250m \u001b[39m\u001b[34;01mpandas\u001b[39;00m\u001b[38;5;250m \u001b[39m\u001b[38;5;28;01mas\u001b[39;00m\u001b[38;5;250m \u001b[39m\u001b[34;01mpd\u001b[39;00m\n\u001b[32m      3\u001b[39m data = {\n\u001b[32m      4\u001b[39m     \u001b[33m'\u001b[39m\u001b[33mNo\u001b[39m\u001b[33m'\u001b[39m: [\u001b[32m1\u001b[39m, \u001b[32m2\u001b[39m, \u001b[32m3\u001b[39m],\n\u001b[32m      5\u001b[39m     \u001b[33m'\u001b[39m\u001b[33mProdi\u001b[39m\u001b[33m'\u001b[39m: [\u001b[33m'\u001b[39m\u001b[33mInformatika\u001b[39m\u001b[33m'\u001b[39m, \u001b[33m'\u001b[39m\u001b[33mSistem Informasi\u001b[39m\u001b[33m'\u001b[39m, \u001b[33m'\u001b[39m\u001b[33mTeknik Sipil\u001b[39m\u001b[33m'\u001b[39m],\n\u001b[32m   (...)\u001b[39m\u001b[32m      8\u001b[39m     \u001b[33m'\u001b[39m\u001b[33mPerempuan\u001b[39m\u001b[33m'\u001b[39m: [\u001b[32m20\u001b[39m, \u001b[32m25\u001b[39m, \u001b[32m10\u001b[39m],\n\u001b[32m      9\u001b[39m }\n\u001b[32m     10\u001b[39m df = pd.DataFrame(data)\n",
      "\u001b[31mModuleNotFoundError\u001b[39m: No module named 'pandas'"
     ]
    }
   ],
   "source": [
    "import pandas as pd\n",
    "\n",
    "data = {\n",
    "    'No': [1, 2, 3],\n",
    "    'Prodi': ['Informatika', 'Sistem Informasi', 'Teknik Sipil'],\n",
    "    'Mahasiswa': [50, 55, 40],\n",
    "    'Laki-laki': [30, 30, 30],\n",
    "    'Perempuan': [20, 25, 10],\n",
    "}\n",
    "df = pd.DataFrame(data)\n",
    "print(df)"
   ]
  },
  {
   "cell_type": "code",
   "execution_count": 1,
   "id": "b7ed10f1",
   "metadata": {},
   "outputs": [
    {
     "ename": "ModuleNotFoundError",
     "evalue": "No module named 'numpy'",
     "output_type": "error",
     "traceback": [
      "\u001b[31m---------------------------------------------------------------------------\u001b[39m",
      "\u001b[31mModuleNotFoundError\u001b[39m                       Traceback (most recent call last)",
      "\u001b[36mCell\u001b[39m\u001b[36m \u001b[39m\u001b[32mIn[1]\u001b[39m\u001b[32m, line 1\u001b[39m\n\u001b[32m----> \u001b[39m\u001b[32m1\u001b[39m \u001b[38;5;28;01mimport\u001b[39;00m\u001b[38;5;250m \u001b[39m\u001b[34;01mnumpy\u001b[39;00m\u001b[38;5;250m \u001b[39m\u001b[38;5;28;01mas\u001b[39;00m\u001b[38;5;250m \u001b[39m\u001b[34;01mnp\u001b[39;00m\n\u001b[32m      3\u001b[39m matrix = np.array([[\u001b[32m100\u001b[39m, \u001b[32m200\u001b[39m, \u001b[32m300\u001b[39m], [\u001b[32m700\u001b[39m, \u001b[32m600\u001b[39m, \u001b[32m500\u001b[39m], [\u001b[32m900\u001b[39m, \u001b[32m1000\u001b[39m, \u001b[32m800\u001b[39m]])\n",
      "\u001b[31mModuleNotFoundError\u001b[39m: No module named 'numpy'"
     ]
    }
   ],
   "source": [
    "import numpy as np\n",
    "\n",
    "matrix = np.array([[100, 200, 300], [700, 600, 500], [900, 1000, 800]])"
   ]
  }
 ],
 "metadata": {
  "kernelspec": {
   "display_name": "Python 3",
   "language": "python",
   "name": "python3"
  },
  "language_info": {
   "codemirror_mode": {
    "name": "ipython",
    "version": 3
   },
   "file_extension": ".py",
   "mimetype": "text/x-python",
   "name": "python",
   "nbconvert_exporter": "python",
   "pygments_lexer": "ipython3",
   "version": "3.13.7"
  }
 },
 "nbformat": 4,
 "nbformat_minor": 5
}
