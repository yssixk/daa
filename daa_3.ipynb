{
 "cells": [
  {
   "cell_type": "code",
   "execution_count": null,
   "id": "f19e3b2d",
   "metadata": {
    "vscode": {
     "languageId": "plaintext"
    }
   },
   "outputs": [],
   "source": [
    "mahasiswa = [\"Yeremia Suyanto\", 2024071015, \"Informatika\" , \"DAA\", \"15/09/2025\" ]\n",
    "print(apalah)"
   ]
  }
 ],
 "metadata": {
  "language_info": {
   "name": "python"
  }
 },
 "nbformat": 4,
 "nbformat_minor": 5
}
