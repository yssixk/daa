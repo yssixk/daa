{
  "nbformat": 4,
  "nbformat_minor": 0,
  "metadata": {
    "colab": {
      "provenance": [],
      "authorship_tag": "ABX9TyNczZc7mNFluLu2yNFaE9dO",
      "include_colab_link": true
    },
    "kernelspec": {
      "name": "python3",
      "display_name": "Python 3"
    },
    "language_info": {
      "name": "python"
    }
  },
  "cells": [
    {
      "cell_type": "markdown",
      "metadata": {
        "id": "view-in-github",
        "colab_type": "text"
      },
      "source": [
        "<a href=\"https://colab.research.google.com/github/yssixk/daa/blob/main/daa_1.ipynb\" target=\"_parent\"><img src=\"https://colab.research.google.com/assets/colab-badge.svg\" alt=\"Open In Colab\"/></a>"
      ]
    },
    {
      "cell_type": "code",
      "execution_count": null,
      "metadata": {
        "id": "2HdDMLFTc33U"
      },
      "outputs": [],
      "source": [
        "import random, time\n",
        "\n",
        "# ===== Algoritma Pencarian =====\n",
        "def linear_search(arr, target):\n",
        "    for i, x in enumerate(arr):\n",
        "        if x == target:\n",
        "            return i\n",
        "    return -1\n",
        "\n",
        "def binary_search(arr, target):\n",
        "    l, r = 0, len(arr)-1\n",
        "    while l <= r:\n",
        "        m = (l+r)//2\n",
        "        if arr[m] == target: return m\n",
        "        if arr[m] < target: l = m+1\n",
        "        else: r = m-1\n",
        "    return -1\n",
        "\n",
        "# ===== Dataset Buku Sederhana =====\n",
        "BUKU = [\n",
        "    \"Algoritma Dasar\", \"Struktur Data\", \"Basis Data\",\n",
        "    \"Pemrograman Python\", \"Machine Learning\",\n",
        "    \"Jaringan Komputer\", \"Sistem Operasi\", \"Kecerdasan Buatan\",\n",
        "    \"Teori Graf\", \"Kriptografi\", \"Data Mining\",\n",
        "    \"Deep Learning\", \"Rekayasa Perangkat Lunak\",\n",
        "    \"Keamanan Siber\", \"Pengolahan Citra Digital\",\n",
        "    \"Robotika\", \"Pemrograman Web\", \"Cloud Computing\",\n",
        "    \"Internet of Things\", \"Big Data\"\n",
        "]\n",
        "\n",
        "# ===== Menu Simple =====\n",
        "def main():\n",
        "    print(\"=== MENU PERPUSTAKAAN DIGITAL ===\")\n",
        "    print(\"1. Cari Buku (Linear vs Binary)\")\n",
        "    print(\"2. Rekomendasi Buku Random\")\n",
        "    print(\"0. Keluar\")\n",
        "\n",
        "    while True:\n",
        "        pilih = input(\"\\nPilih menu: \")\n",
        "        if pilih == \"0\":\n",
        "            print(\"Bye!\"); break\n",
        "\n",
        "        elif pilih == \"1\":\n",
        "            n = int(input(\"Ukuran katalog (misal 1000000): \"))\n",
        "            target = int(input(\"Target ID: \"))\n",
        "            data = list(range(n))\n",
        "\n",
        "            # Linear\n",
        "            t0 = time.time(); idx1 = linear_search(data, target); t1 = time.time()-t0\n",
        "\n",
        "            # Binary\n",
        "            t0 = time.time(); idx2 = binary_search(data, target); t2 = time.time()-t0\n",
        "\n",
        "            print(f\"Linear Search -> index={idx1}, waktu={t1:.6f}s\")\n",
        "            print(f\"Binary Search -> index={idx2}, waktu={t2:.6f}s\")\n",
        "\n",
        "        elif pilih == \"2\":\n",
        "            seed = int(input(\"Masukkan angka random favoritmu: \"))\n",
        "            random.seed(seed)\n",
        "            rekomendasi = random.sample(BUKU, 5)\n",
        "            print(\"\\n📚 Rekomendasi Buku Untukmu:\")\n",
        "            for i, judul in enumerate(rekomendasi, 1):\n",
        "                print(f\"{i}. {judul}\")\n",
        "\n",
        "        else:\n",
        "            print(\"Menu tidak valid.\")\n",
        "\n",
        "# Jalankan main()\n",
        "main()\n"
      ]
    },
    {
      "cell_type": "code",
      "source": [
        "from collections import deque\n",
        "\n",
        "# Graf kampus sederhana\n",
        "kampus_graph = {\n",
        "    \"Gerbang\": [\"Perpustakaan\", \"Gedung A\"],\n",
        "    \"Perpustakaan\": [\"Gerbang\", \"Gedung B\", \"Kantin\"],\n",
        "    \"Gedung A\": [\"Gerbang\", \"Gedung B\"],\n",
        "    \"Gedung B\": [\"Perpustakaan\", \"Gedung A\", \"Lab\"],\n",
        "    \"Lab\": [\"Gedung B\", \"Kelas 301\"],\n",
        "    \"Kantin\": [\"Perpustakaan\", \"Kelas 301\"],\n",
        "    \"Kelas 301\": [\"Kantin\", \"Lab\"]\n",
        "}\n",
        "\n",
        "def shortest_path_bfs(graph, start, goal):\n",
        "    if start == goal:\n",
        "        return [start]\n",
        "\n",
        "    visited = set([start])\n",
        "    parent = {start: None}\n",
        "    q = deque([start])\n",
        "\n",
        "    while q:\n",
        "        u = q.popleft()\n",
        "        for v in graph.get(u, []):\n",
        "            if v not in visited:\n",
        "                visited.add(v)\n",
        "                parent[v] = u\n",
        "                if v == goal:\n",
        "                    # rekonstruksi path\n",
        "                    path = [v]\n",
        "                    while parent[path[-1]] is not None:\n",
        "                        path.append(parent[path[-1]])\n",
        "                    path.reverse()\n",
        "                    return path\n",
        "                q.append(v)\n",
        "    return None\n",
        "\n",
        "# Demo\n",
        "start, goal = \"Gerbang\", \"Kelas 301\"\n",
        "path = shortest_path_bfs(kampus_graph, start, goal)\n",
        "print(f\"Jalur tercepat dari {start} ke {goal}:\")\n",
        "print(\" -> \".join(path))\n"
      ],
      "metadata": {
        "id": "ZkNR8wfvc-cU"
      },
      "execution_count": null,
      "outputs": []
    },
    {
      "cell_type": "code",
      "source": [
        "def validasi_nim(nim: str) -> bool:\n",
        "    # cek panjang\n",
        "    if len(nim) != 10:\n",
        "        return False\n",
        "    # cek semua karakter angka\n",
        "    if not nim.isdigit():\n",
        "        return False\n",
        "    return True\n",
        "\n",
        "# Demo\n",
        "nim_list = [\"2024071008\", \"123456789\", \"2OO24A23456\", \"2412345678\"]\n",
        "for nim in nim_list:\n",
        "    print(nim, \"->\", validasi_nim(nim))\n"
      ],
      "metadata": {
        "id": "kO2Ufx9GdtWD"
      },
      "execution_count": null,
      "outputs": []
    }
  ]
}